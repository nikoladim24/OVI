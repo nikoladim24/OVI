{
 "cells": [
  {
   "cell_type": "code",
   "execution_count": 26,
   "id": "e91d3430-32c8-476d-96fa-5bacfc422509",
   "metadata": {},
   "outputs": [],
   "source": [
    "from collections import deque\n",
    "import heapq"
   ]
  },
  {
   "cell_type": "code",
   "execution_count": 51,
   "id": "71cae1ff-1407-4423-a075-ea3c96d4b8ee",
   "metadata": {},
   "outputs": [],
   "source": [
    "def find_human(state):\n",
    "    for i, row in enumerate(state):\n",
    "        for j, column in enumerate(row):\n",
    "            if column == 1:\n",
    "                return (i, j)\n",
    "    return (0, 0)"
   ]
  },
  {
   "cell_type": "code",
   "execution_count": 52,
   "id": "f02573ce-d372-4ccc-9b4a-185bf9077c06",
   "metadata": {},
   "outputs": [],
   "source": [
    "def find_object_1(state):\n",
    "    for i, row in enumerate(state):\n",
    "        for j, column in enumerate(row):\n",
    "            if column == 2:\n",
    "                return i, j\n",
    "    return (0, 0)"
   ]
  },
  {
   "cell_type": "code",
   "execution_count": 53,
   "id": "39fc555e-2d04-469d-bc04-704a57a12616",
   "metadata": {},
   "outputs": [],
   "source": [
    "def find_object_2(state):\n",
    "    for i, row in enumerate(state):\n",
    "        for j, column in enumerate(row):\n",
    "            if column == 3:\n",
    "                return i, j\n",
    "    return (0, 0)"
   ]
  },
  {
   "cell_type": "code",
   "execution_count": 54,
   "id": "8c5950e6-4097-4506-b927-2f5346d7bb6c",
   "metadata": {},
   "outputs": [],
   "source": [
    "def check_end(state):\n",
    "    i, j = find_human(state)\n",
    "    if (i == 1) and (j == 7):\n",
    "        return True\n",
    "    return False"
   ]
  },
  {
   "cell_type": "code",
   "execution_count": 55,
   "id": "7e5c5f69-d677-4a24-89ee-30213f79841e",
   "metadata": {},
   "outputs": [],
   "source": [
    "def in_table(i, j):\n",
    "    if (0 <= i <= 7) and (0 <= j <= 7):\n",
    "        return True\n",
    "    return False"
   ]
  },
  {
   "cell_type": "code",
   "execution_count": 56,
   "id": "54c26e85-d1b5-411d-97f4-b524e362a8e3",
   "metadata": {},
   "outputs": [],
   "source": [
    "def collision(i1, j1, i2, j2):\n",
    "    if (i1 == i1) and (j1 == j2):\n",
    "        return True\n",
    "    return False"
   ]
  },
  {
   "cell_type": "code",
   "execution_count": 57,
   "id": "5e7e73bb-4e86-44c7-a7d9-51a69b6cb9d7",
   "metadata": {},
   "outputs": [],
   "source": [
    "def is_valid(i1, j1, i2, j2):\n",
    "    if in_table(i1, j1) and not collision(i1, j1, i2, j2):\n",
    "        return True\n",
    "    return False\n",
    "        "
   ]
  },
  {
   "cell_type": "code",
   "execution_count": 58,
   "id": "e77ea5a5-67f0-4772-a41a-1658c2e65be4",
   "metadata": {},
   "outputs": [],
   "source": [
    "def expand_state(state):\n",
    "    states = []\n",
    "    new_state = [list(row)  for row in state]\n",
    "    x1, y1 = find_human(state)\n",
    "    x2, y2 = find_object_1(state)\n",
    "    x3, y3 = find_object_2(state)\n",
    "    moves_human = [(1, 0), (0, 1), (-1, 0), (0, -1)]\n",
    "    moves_object1 = [(1, 0), (1, 0), (1, 0), (1, 0)]\n",
    "    moves_object2 = [(-1, 0), (-1, 0), (-1, 0), (-1,0)]\n",
    "    for (d_x1, d_y2), (d_x2, d_y2), (d_x3, d_y3) in zip (moves_human, moves_object1, moves_object2):\n",
    "        new_state = [list(row) for row in state]\n",
    "        new_x1 = x1 + d_x1\n",
    "        new_y1 = y1 + d_y1\n",
    "        new_x2 = x2 + d_x2\n",
    "        new_y2 = y2 + d_y2\n",
    "        new_x3 = x3 + d_x3\n",
    "        new_y3 = y3 + d_y3\n",
    "        if is_valid(new_x1, new_y1, new_x2, new_y2):\n",
    "            new_state[x1][y1] = 0\n",
    "            new_state[new_x1][new_y1] = 1\n",
    "        if is_valid(new_x2, new_y2, new_x3, new_y3):\n",
    "            new_state[x2][y2] = 0\n",
    "            new_state[new_x2][new_y2] = 2\n",
    "        if is_valid(new_x3, new_y3, new_x1, new_y1):\n",
    "            new_state[x3][y3] = 0\n",
    "            new_state[new_x3][new_y3] = 3\n",
    "        states.append(tuple(map(tuple,new_state)))"
   ]
  },
  {
   "cell_type": "code",
   "execution_count": 59,
   "id": "872e34ad-efa1-4aee-8bbb-449e0a93d292",
   "metadata": {},
   "outputs": [],
   "source": [
    "def a_star_search(starting_vertex, heuristic_function,alpha=1):\n",
    "    expanded = set()\n",
    "    queue = [((0, 0), [starting_vertex])]\n",
    "    heapq.heapify(queue)\n",
    "    c = 0\n",
    "    while queue:\n",
    "          c += 1\n",
    "          weight_tuple, vertex_list = heapq.heappop(queue)\n",
    "          current_a_star_weight, current_path_weight = weight_tuple\n",
    "          vertex_to_expand = vertex_list[-1]\n",
    "          if check_end(vertex_to_expand):\n",
    "             return current_path_weight, vertex_list, c\n",
    "          if vertex_to_expand in expanded:\n",
    "             continue\n",
    "          for neighbour in expand_state(vertex_to_expand):\n",
    "              if neighbour not in expanded:\n",
    "                 heuristic = heuristic_function(neighbour)\n",
    "                 path_weight = current_path_weight + 1\n",
    "                 a_star_weight = path_weight + alpha * heuristic\n",
    "                 heapq.heappush(queue, ((a_star_weight, path_weight),vertex_list + [neighbour]))\n",
    "          expanded.add(vertex_to_expand)"
   ]
  },
  {
   "cell_type": "code",
   "execution_count": 63,
   "id": "6be1257c-beec-422b-bc54-e5380d3d9a74",
   "metadata": {},
   "outputs": [],
   "source": [
    "def manhattan_distance(state):\n",
    "    matrix_explorer = [list(row) for row in state]\n",
    "    i_p, j_p = find_person(matrix_explorer)\n",
    "    return abs(i_p - 1) + abs(j_p - 7)"
   ]
  },
  {
   "cell_type": "code",
   "execution_count": 64,
   "id": "2510ae37-e955-4de4-8e49-d4a15a3b516e",
   "metadata": {},
   "outputs": [],
   "source": [
    "def h(state):\n",
    "    distance =  manhattan_distance(state)\n",
    "    return distance\n",
    "    "
   ]
  },
  {
   "cell_type": "code",
   "execution_count": 66,
   "id": "a18315c0-37f5-4ae4-902d-88cb46a30528",
   "metadata": {},
   "outputs": [
    {
     "ename": "TypeError",
     "evalue": "a_star_search() missing 1 required positional argument: 'heuristic_function'",
     "output_type": "error",
     "traceback": [
      "\u001b[0;31m---------------------------------------------------------------------------\u001b[0m",
      "\u001b[0;31mTypeError\u001b[0m                                 Traceback (most recent call last)",
      "Cell \u001b[0;32mIn[66], line 1\u001b[0m\n\u001b[0;32m----> 1\u001b[0m \u001b[43ma_star_search\u001b[49m\u001b[43m(\u001b[49m\u001b[43mmanhattan_distance\u001b[49m\u001b[43m)\u001b[49m\n",
      "\u001b[0;31mTypeError\u001b[0m: a_star_search() missing 1 required positional argument: 'heuristic_function'"
     ]
    }
   ],
   "source": [
    "a_star_search(manhattan_distance)"
   ]
  },
  {
   "cell_type": "code",
   "execution_count": null,
   "id": "d76574e5-706f-4c2c-95bc-ab1f647a3c9a",
   "metadata": {},
   "outputs": [],
   "source": []
  },
  {
   "cell_type": "code",
   "execution_count": null,
   "id": "29fc8ed6-6d07-438c-9852-0152e86cdb7d",
   "metadata": {},
   "outputs": [],
   "source": []
  },
  {
   "cell_type": "code",
   "execution_count": null,
   "id": "038e3f7b-c020-4ff2-9012-28a59c951a01",
   "metadata": {},
   "outputs": [],
   "source": []
  }
 ],
 "metadata": {
  "kernelspec": {
   "display_name": "Python 3 (ipykernel)",
   "language": "python",
   "name": "python3"
  },
  "language_info": {
   "codemirror_mode": {
    "name": "ipython",
    "version": 3
   },
   "file_extension": ".py",
   "mimetype": "text/x-python",
   "name": "python",
   "nbconvert_exporter": "python",
   "pygments_lexer": "ipython3",
   "version": "3.12.6"
  }
 },
 "nbformat": 4,
 "nbformat_minor": 5
}
