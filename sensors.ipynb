{
 "cells": [
  {
   "cell_type": "code",
   "execution_count": 28,
   "id": "5665fb00-67a0-4c88-ba40-e781d16ee3bd",
   "metadata": {},
   "outputs": [],
   "source": [
    "from collections import deque\n",
    "import os\n",
    "from pprint import pprint"
   ]
  },
  {
   "cell_type": "code",
   "execution_count": 29,
   "id": "f766ad02-cca8-4f57-82e0-4349bc6cf0ce",
   "metadata": {},
   "outputs": [],
   "source": [
    "start_state = ((0, 0, 0, 0),\n",
    "               (0, 0, 0, 0),\n",
    "               (0, 0, 0, 0),\n",
    "               (0, 0, 0, 0)) \n",
    "manufacturer = [1, 2, 3, 4]"
   ]
  },
  {
   "cell_type": "code",
   "execution_count": 30,
   "id": "bb80f182-bed4-4800-a661-4ae5d596483d",
   "metadata": {},
   "outputs": [],
   "source": [
    "def find_next_zero(state_matrix):\n",
    "    for i, row in enumerate(state_matrix):\n",
    "        for j, column in enumerate(row):\n",
    "            if column == 0:\n",
    "                return i, j\n",
    "    return [0, 0]"
   ]
  },
  {
   "cell_type": "code",
   "execution_count": 31,
   "id": "9b8b51a9-5359-4a1b-b4f7-f95ea27712b7",
   "metadata": {},
   "outputs": [],
   "source": [
    "def expand_state(state):\n",
    "    new_states = []\n",
    "    location_of_next_zero = find_next_zero(state)\n",
    "    if location_of_next_zero is None:\n",
    "        return []\n",
    "    i, j = location_of_next_zero\n",
    "    unavailable_row = set(state[i])\n",
    "    unavailable_column = set([row[j] for row in state])\n",
    "    unavailable = unavailable_row | unavailable_column\n",
    "    available = set(range(1, 5)) - unavailable\n",
    "    if not available:\n",
    "        return []\n",
    "    for n in available:\n",
    "        new_state = [list(row) for row in state]\n",
    "        new_state[i][j] = n\n",
    "        new_states.append(tuple([tuple(row) for row in new_state]))\n",
    "    return new_states\n",
    "        \n",
    "    "
   ]
  },
  {
   "cell_type": "code",
   "execution_count": 32,
   "id": "e1f7c897-3a2c-4b3c-9813-a5c5ee17dac8",
   "metadata": {},
   "outputs": [],
   "source": [
    "def check_end(state):\n",
    "    for i, row in enumerate(state):\n",
    "        for j, column in enumerate(row):\n",
    "            if column == 0:\n",
    "                return False\n",
    "    return True           "
   ]
  },
  {
   "cell_type": "code",
   "execution_count": 33,
   "id": "2755b954-6088-4719-94fb-d2749e410291",
   "metadata": {},
   "outputs": [
    {
     "data": {
      "text/plain": [
       "[((1, 0, 0, 0), (0, 0, 0, 0), (0, 0, 0, 0), (0, 0, 0, 0)),\n",
       " ((2, 0, 0, 0), (0, 0, 0, 0), (0, 0, 0, 0), (0, 0, 0, 0)),\n",
       " ((3, 0, 0, 0), (0, 0, 0, 0), (0, 0, 0, 0), (0, 0, 0, 0)),\n",
       " ((4, 0, 0, 0), (0, 0, 0, 0), (0, 0, 0, 0), (0, 0, 0, 0))]"
      ]
     },
     "execution_count": 33,
     "metadata": {},
     "output_type": "execute_result"
    }
   ],
   "source": [
    "expand_state(start_state)"
   ]
  },
  {
   "cell_type": "code",
   "execution_count": 34,
   "id": "8b156dc6-a0d1-4301-9875-720ae9c166a2",
   "metadata": {},
   "outputs": [],
   "source": [
    "def search(initial_state, alg):\n",
    "    visited = {initial_state}\n",
    "    states_queue = deque([initial_state])\n",
    "    while states_queue:\n",
    "        state_to_expand = states_queue.popleft()\n",
    "        for next_state in expand_state(state_to_expand):\n",
    "            if next_state not in visited:\n",
    "                if check_end(next_state):\n",
    "                    return next_state\n",
    "                visited.add(next_state)\n",
    "                if alg == 'dfs':\n",
    "                    states_queue.appendleft(next_state)\n",
    "                elif alg == 'bfs':\n",
    "                    states_queue.append(next_state)"
   ]
  },
  {
   "cell_type": "code",
   "execution_count": 36,
   "id": "e4e86e5a-0c1d-4685-9482-7febb3c779b9",
   "metadata": {},
   "outputs": [
    {
     "data": {
      "text/plain": [
       "((1, 2, 3, 4), (2, 1, 4, 3), (3, 4, 1, 2), (4, 3, 2, 1))"
      ]
     },
     "execution_count": 36,
     "metadata": {},
     "output_type": "execute_result"
    }
   ],
   "source": [
    "sensors = search(start_state, 'bfs')\n",
    "sensors"
   ]
  },
  {
   "cell_type": "code",
   "execution_count": null,
   "id": "8667a3fb-808a-4ba4-9764-c008c9105477",
   "metadata": {},
   "outputs": [],
   "source": []
  }
 ],
 "metadata": {
  "kernelspec": {
   "display_name": "Python 3 (ipykernel)",
   "language": "python",
   "name": "python3"
  },
  "language_info": {
   "codemirror_mode": {
    "name": "ipython",
    "version": 3
   },
   "file_extension": ".py",
   "mimetype": "text/x-python",
   "name": "python",
   "nbconvert_exporter": "python",
   "pygments_lexer": "ipython3",
   "version": "3.12.6"
  }
 },
 "nbformat": 4,
 "nbformat_minor": 5
}
