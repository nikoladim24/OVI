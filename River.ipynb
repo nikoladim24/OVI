{
 "cells": [
  {
   "cell_type": "code",
   "execution_count": 2,
   "id": "e73b81bb-c4e6-4a10-b2fc-9eb0046ddc23",
   "metadata": {},
   "outputs": [],
   "source": [
    "def is_valid(state):\n",
    "    farmer, wolf, goat, cabbage, boat = state\n",
    "    if wolf == goat and farmer != wolf:\n",
    "        return False\n",
    "    if goat == cabbage and farmer!=goat:\n",
    "        return False\n",
    "    return True"
   ]
  },
  {
   "cell_type": "code",
   "execution_count": 3,
   "id": "f75be3a4-ca41-46f1-9cdb-13a9a996dcd7",
   "metadata": {},
   "outputs": [],
   "source": [
    "def expand_state(state):\n",
    "    states = []\n",
    "    for i in range(len(state)):\n",
    "        if state[4] == state[i]:\n",
    "            new_state=list(state)\n",
    "            new_state[0] = 1 - state[0]\n",
    "            new_state[4] = 1 - state[4]\n",
    "            new_state[i] = new_state[4]\n",
    "            new_state = tuple(new_state)\n",
    "            if is_valid(new_state):\n",
    "                states.append(new_state)\n",
    "    return states\n",
    "    "
   ]
  },
  {
   "cell_type": "code",
   "execution_count": 4,
   "id": "943bfd02-bcd2-48fa-aeda-0e7238663203",
   "metadata": {},
   "outputs": [
    {
     "data": {
      "text/plain": [
       "[(1, 0, 1, 0, 1)]"
      ]
     },
     "execution_count": 4,
     "metadata": {},
     "output_type": "execute_result"
    }
   ],
   "source": [
    "expand_state((0,0,0,0,0))"
   ]
  },
  {
   "cell_type": "code",
   "execution_count": 5,
   "id": "1283e6b6-5c47-4991-8de6-8b7d18c213b5",
   "metadata": {},
   "outputs": [],
   "source": [
    "from collections import deque\n",
    "def search_path(initial_state, goal_state):\n",
    "    visited = {initial_state}\n",
    "    states_queue = deque([[initial_state]])\n",
    "    while states_queue:\n",
    "        states_list = states_queue.popleft()\n",
    "        state_to_expand = states_list[-1]\n",
    "        for next_state in expand_state(state_to_expand):\n",
    "            if next_state not in visited:\n",
    "                if next_state == goal_state:\n",
    "                    return states_list + [next_state]\n",
    "                visited.add(next_state)\n",
    "                states_queue.append(states_list + [next_state])\n",
    "    return []"
   ]
  },
  {
   "cell_type": "code",
   "execution_count": 6,
   "id": "83c2a353-fe63-4faa-9d1f-b1f4124fe213",
   "metadata": {},
   "outputs": [
    {
     "data": {
      "text/plain": [
       "[(0, 0, 0, 0, 0),\n",
       " (1, 0, 1, 0, 1),\n",
       " (0, 0, 1, 0, 0),\n",
       " (1, 1, 1, 0, 1),\n",
       " (0, 1, 0, 0, 0),\n",
       " (1, 1, 0, 1, 1),\n",
       " (0, 1, 0, 1, 0),\n",
       " (1, 1, 1, 1, 1)]"
      ]
     },
     "execution_count": 6,
     "metadata": {},
     "output_type": "execute_result"
    }
   ],
   "source": [
    "search_path((0,0,0,0,0),(1,1,1,1,1))"
   ]
  },
  {
   "cell_type": "code",
   "execution_count": 23,
   "id": "16487510-6911-47f3-a71a-784605001d07",
   "metadata": {},
   "outputs": [],
   "source": [
    "def h(state): # Heuristic - number of mismatched pairs \n",
    "    return sum([state[0] != state[1], state[0] != state[2], state[0] != state[3]]) \n",
    "#The heuristic considers how many entities are on the opposite side of the river compared to the farmer. \n",
    "#The sum of these conditions gives an estimate of how many entities are not in the correct position relative to the farmer. Since the farmer can only takeone entity at a time in the boat, \n",
    "#this heuristic provides a reasonable estimate of the number of moves needed to correct the positions of the entities."
   ]
  },
  {
   "cell_type": "code",
   "execution_count": 26,
   "id": "82d00d0d-979b-44fc-93e7-ee75b9eb102c",
   "metadata": {},
   "outputs": [],
   "source": [
    "import heapq\n",
    "def a_star_search(starting_vertex, goal_vertex, heuristic_function,alpha=1):\n",
    "    expanded = set()\n",
    "    queue = [((0, 0), [starting_vertex])]\n",
    "    heapq.heapify(queue)\n",
    "    c = 0\n",
    "    while queue:\n",
    "          c += 1\n",
    "          weight_tuple, vertex_list = heapq.heappop(queue)\n",
    "          current_a_star_weight, current_path_weight = weight_tuple\n",
    "          vertex_to_expand = vertex_list[-1]\n",
    "          if goal_vertex == vertex_to_expand:\n",
    "             return current_path_weight, vertex_list, c\n",
    "          if vertex_to_expand in expanded:\n",
    "             continue\n",
    "          for neighbour in expand_state(vertex_to_expand):\n",
    "              if neighbour not in expanded:\n",
    "                 heuristic = heuristic_function(neighbour)\n",
    "                 path_weight = current_path_weight + 1\n",
    "                 a_star_weight = path_weight + alpha * heuristic\n",
    "                 heapq.heappush(queue, ((a_star_weight, path_weight),vertex_list + [neighbour]))\n",
    "          expanded.add(vertex_to_expand)"
   ]
  },
  {
   "cell_type": "code",
   "execution_count": 27,
   "id": "ebae4ec1-11f4-46f9-8405-10547a618ba2",
   "metadata": {},
   "outputs": [
    {
     "data": {
      "text/plain": [
       "(7,\n",
       " [(0, 0, 0, 0, 0),\n",
       "  (1, 0, 1, 0, 1),\n",
       "  (0, 0, 1, 0, 0),\n",
       "  (1, 0, 1, 1, 1),\n",
       "  (0, 0, 0, 1, 0),\n",
       "  (1, 1, 0, 1, 1),\n",
       "  (0, 1, 0, 1, 0),\n",
       "  (1, 1, 1, 1, 1)],\n",
       " 12)"
      ]
     },
     "execution_count": 27,
     "metadata": {},
     "output_type": "execute_result"
    }
   ],
   "source": [
    "a_star_search((0, 0, 0, 0, 0), (1, 1, 1, 1, 1), h)"
   ]
  },
  {
   "cell_type": "code",
   "execution_count": null,
   "id": "24388933-16a2-4708-a888-087f469e2a3f",
   "metadata": {},
   "outputs": [],
   "source": []
  }
 ],
 "metadata": {
  "kernelspec": {
   "display_name": "Python 3 (ipykernel)",
   "language": "python",
   "name": "python3"
  },
  "language_info": {
   "codemirror_mode": {
    "name": "ipython",
    "version": 3
   },
   "file_extension": ".py",
   "mimetype": "text/x-python",
   "name": "python",
   "nbconvert_exporter": "python",
   "pygments_lexer": "ipython3",
   "version": "3.12.6"
  }
 },
 "nbformat": 4,
 "nbformat_minor": 5
}
