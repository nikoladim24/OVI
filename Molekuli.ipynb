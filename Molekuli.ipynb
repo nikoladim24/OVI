{
 "cells": [
  {
   "cell_type": "code",
   "execution_count": 136,
   "id": "85cb29a8-1c2e-4972-83e7-a03b88571e34",
   "metadata": {},
   "outputs": [],
   "source": [
    "from collections import deque"
   ]
  },
  {
   "cell_type": "code",
   "execution_count": 137,
   "id": "34aab018-def7-491b-9419-824afbe61ff8",
   "metadata": {},
   "outputs": [],
   "source": [
    "def is_mismatch(x1, y1, x2, y2):\n",
    "    if (x1 == x2) and (y1 == y2):\n",
    "        return True\n",
    "    else:\n",
    "        return False    "
   ]
  },
  {
   "cell_type": "code",
   "execution_count": 138,
   "id": "e2d923bf-ef03-4fa7-a464-e1bb4d64ccb4",
   "metadata": {},
   "outputs": [],
   "source": [
    "def obstacles(x, y):\n",
    "    for tuple in ((0,3), (0,5), (0,7), (1,2), (1,8), (3,1), (3,6), (3,7), (4,4), (4,6), (5,0), (5,1), (5,3), (5,6)):\n",
    "        if (x,y) == tuple:\n",
    "            return True\n",
    "    return False"
   ]
  },
  {
   "cell_type": "code",
   "execution_count": 139,
   "id": "2a363322-bf64-43db-9f35-d525335012e9",
   "metadata": {},
   "outputs": [],
   "source": [
    "def is_in_table(x, y):\n",
    "    if 0 <= x <= 6 and 0 <= y <= 8:\n",
    "        return True"
   ]
  },
  {
   "cell_type": "code",
   "execution_count": 140,
   "id": "bbdd55c8-72e3-4a7c-b374-9a03bbc8e91f",
   "metadata": {},
   "outputs": [],
   "source": [
    "def is_valid(x1, y1, x2, y2):\n",
    "    if not is_mismatch(x1, y1, x2, y2) and is_in_table(x1, y1) and not obstacles(x1, y1):\n",
    "        return True"
   ]
  },
  {
   "cell_type": "code",
   "execution_count": 141,
   "id": "e879de31-f411-4b03-a645-07cf91974026",
   "metadata": {},
   "outputs": [],
   "source": [
    "def find_h1(state):\n",
    "    for i, row in enumerate(state):\n",
    "        for j, column in enumerate(row):\n",
    "            if column == 1:\n",
    "                return (i, j)\n",
    "    return (0, 0)"
   ]
  },
  {
   "cell_type": "code",
   "execution_count": 142,
   "id": "f68c312d-5cff-4a60-8a5c-73c96aeb4a48",
   "metadata": {},
   "outputs": [],
   "source": [
    "def find_h2(state):\n",
    "    for i, row in enumerate(state):\n",
    "        for j, column in enumerate(row):\n",
    "            if column == 2:\n",
    "                return (i, j)\n",
    "    return (0, 0)"
   ]
  },
  {
   "cell_type": "code",
   "execution_count": 143,
   "id": "c29036d6-474b-4220-ba08-5ad47824f8fd",
   "metadata": {},
   "outputs": [],
   "source": [
    "def find_o(state):\n",
    "    for i, row in enumerate(state):\n",
    "        for j, column in enumerate(row):\n",
    "            if column == 3:\n",
    "                return (i, j)\n",
    "    return (0, 0)"
   ]
  },
  {
   "cell_type": "code",
   "execution_count": 170,
   "id": "551a8205-e9f7-46fd-90d5-65968eff82a9",
   "metadata": {},
   "outputs": [],
   "source": [
    "def end_check(state_matrix):\n",
    "    xo, yo = find_o(state_matrix)\n",
    "    xh1, yh1 = find_h1(state_matrix)\n",
    "    xh2, yh2 = find_h2(state_matrix)\n",
    "    if (xh2 == xo ) and (xo == xh1 ):\n",
    "        if (yh2 == yo + 1) and (yo == yh1 + 1):\n",
    "            return True\n",
    "    else:\n",
    "        return False\n",
    "    \n",
    "    \n",
    "    "
   ]
  },
  {
   "cell_type": "code",
   "execution_count": 171,
   "id": "ecf92868-1dc7-487b-824b-5c453815b9d7",
   "metadata": {},
   "outputs": [],
   "source": [
    "def expand_state(state_matrix):\n",
    "    states = []\n",
    "    new_state_matrix = [list(row) for row in state_matrix]\n",
    "\n",
    "    moves = [(1,0), (0,1), (-1,0), (0,-1)]\n",
    "    \n",
    "    i_h1, j_h1 = find_h1(state_matrix)\n",
    "    i_h2, j_h2 = find_h2(state_matrix)\n",
    "    i_o, j_o = find_o(state_matrix)\n",
    "    for (d_ih1, d_jh1), (d_ih2, d_jh2), (d_io, d_jo) in zip(moves, moves, moves):\n",
    "        new_state_matrix = [list(row) for row in state_matrix]\n",
    "        new_io = i_o + d_io\n",
    "        new_jo = j_o + d_jo\n",
    "        new_ih1 = i_h1 + d_ih1\n",
    "        new_jh1 = j_h1 + d_jh1\n",
    "        new_ih2 = i_h2 + d_ih2\n",
    "        new_jh2 = j_h2 + d_jh2\n",
    "        if is_valid(new_io, new_jo, new_ih1, new_jh1):\n",
    "            new_state_matrix[i_o][j_o] = 0 \n",
    "            new_state_matrix[new_io][new_jo] = 3\n",
    "        if is_valid(new_ih1, new_jh1, new_ih2, new_jh2):\n",
    "            new_state_matrix[i_h1][j_h1] = 0 \n",
    "            new_state_matrix[new_ih1][new_jh1] = 1\n",
    "        if is_valid(new_ih2, new_jh2, new_io, new_jo):\n",
    "            new_state_matrix[i_h2][j_h2] = 0 \n",
    "            new_state_matrix[new_ih2][new_jh2] = 2\n",
    "        states.append(tuple(map(tuple,new_state_matrix)))\n",
    "    return states         "
   ]
  },
  {
   "cell_type": "code",
   "execution_count": 172,
   "id": "b7afacf9-6191-4447-be2a-9148718a8b2a",
   "metadata": {},
   "outputs": [],
   "source": [
    "from collections import deque\n",
    "def search_path(initial_state):\n",
    "    visited = {initial_state}\n",
    "    states_queue = deque([[initial_state]])\n",
    "    while states_queue:\n",
    "        states_list = states_queue.popleft()\n",
    "        state_to_expand = states_list[-1]\n",
    "        for next_state in expand_state(state_to_expand):\n",
    "            if next_state not in visited:\n",
    "                if end_check(next_state):\n",
    "                    return states_list + [next_state]\n",
    "                visited.add(next_state)\n",
    "                states_queue.append(states_list + [next_state])\n",
    "    return []"
   ]
  },
  {
   "cell_type": "code",
   "execution_count": 173,
   "id": "e141ae62-799d-4fae-8df2-dbf9c54229dd",
   "metadata": {},
   "outputs": [],
   "source": [
    "matrix=((0, 0, 2, 0, 0, 0, 0, 0, 0),\n",
    "        (0, 0, 0, 0, 0, 0, 0, 0, 0),\n",
    "        (0, 0, 0, 0, 0, 0, 0, 0, 0),\n",
    "        (0, 0, 0, 0, 0, 0, 0, 0, 0),\n",
    "        (0, 0, 0, 0, 0, 0, 0, 3, 0),\n",
    "        (0, 0, 1, 0, 0, 0, 0, 0, 0),\n",
    "        (0, 0, 0, 0, 0, 0, 0, 0, 0))\n",
    "        "
   ]
  },
  {
   "cell_type": "code",
   "execution_count": 174,
   "id": "c508d0c3-1d40-4297-99db-f28295134b53",
   "metadata": {},
   "outputs": [
    {
     "data": {
      "text/plain": [
       "((0, 0, 2, 0, 0, 0, 0, 0, 0),\n",
       " (0, 0, 0, 0, 0, 0, 0, 0, 0),\n",
       " (0, 0, 0, 0, 0, 0, 0, 0, 0),\n",
       " (0, 0, 0, 0, 0, 0, 0, 0, 0),\n",
       " (0, 0, 0, 0, 0, 0, 0, 3, 0),\n",
       " (0, 0, 1, 0, 0, 0, 0, 0, 0),\n",
       " (0, 0, 0, 0, 0, 0, 0, 0, 0))"
      ]
     },
     "execution_count": 174,
     "metadata": {},
     "output_type": "execute_result"
    }
   ],
   "source": [
    "matrix\n"
   ]
  },
  {
   "cell_type": "code",
   "execution_count": 175,
   "id": "734e0b69-9c4a-4a37-9e9e-a53bcfcc5a65",
   "metadata": {},
   "outputs": [
    {
     "data": {
      "text/plain": [
       "[((0, 0, 2, 0, 0, 0, 0, 0, 0),\n",
       "  (0, 0, 0, 0, 0, 0, 0, 0, 0),\n",
       "  (0, 0, 0, 0, 0, 0, 0, 0, 0),\n",
       "  (0, 0, 0, 0, 0, 0, 0, 0, 0),\n",
       "  (0, 0, 0, 0, 0, 0, 0, 0, 0),\n",
       "  (0, 0, 0, 0, 0, 0, 0, 3, 0),\n",
       "  (0, 0, 1, 0, 0, 0, 0, 0, 0)),\n",
       " ((0, 0, 2, 0, 0, 0, 0, 0, 0),\n",
       "  (0, 0, 0, 0, 0, 0, 0, 0, 0),\n",
       "  (0, 0, 0, 0, 0, 0, 0, 0, 0),\n",
       "  (0, 0, 0, 0, 0, 0, 0, 0, 0),\n",
       "  (0, 0, 0, 0, 0, 0, 0, 0, 3),\n",
       "  (0, 0, 1, 0, 0, 0, 0, 0, 0),\n",
       "  (0, 0, 0, 0, 0, 0, 0, 0, 0)),\n",
       " ((0, 0, 2, 0, 0, 0, 0, 0, 0),\n",
       "  (0, 0, 0, 0, 0, 0, 0, 0, 0),\n",
       "  (0, 0, 0, 0, 0, 0, 0, 0, 0),\n",
       "  (0, 0, 0, 0, 0, 0, 0, 0, 0),\n",
       "  (0, 0, 1, 0, 0, 0, 0, 3, 0),\n",
       "  (0, 0, 0, 0, 0, 0, 0, 0, 0),\n",
       "  (0, 0, 0, 0, 0, 0, 0, 0, 0)),\n",
       " ((0, 2, 0, 0, 0, 0, 0, 0, 0),\n",
       "  (0, 0, 0, 0, 0, 0, 0, 0, 0),\n",
       "  (0, 0, 0, 0, 0, 0, 0, 0, 0),\n",
       "  (0, 0, 0, 0, 0, 0, 0, 0, 0),\n",
       "  (0, 0, 0, 0, 0, 0, 0, 3, 0),\n",
       "  (0, 0, 1, 0, 0, 0, 0, 0, 0),\n",
       "  (0, 0, 0, 0, 0, 0, 0, 0, 0))]"
      ]
     },
     "execution_count": 175,
     "metadata": {},
     "output_type": "execute_result"
    }
   ],
   "source": [
    "expand_state(matrix)"
   ]
  },
  {
   "cell_type": "code",
   "execution_count": null,
   "id": "7507db34-b8f2-4f58-9d78-fbd522ed41d9",
   "metadata": {},
   "outputs": [],
   "source": []
  },
  {
   "cell_type": "code",
   "execution_count": 176,
   "id": "99888786-d4a4-45fb-af91-ba2b300ae299",
   "metadata": {},
   "outputs": [],
   "source": [
    "def visualise_path(path):\n",
    "    for states in zip(path, path[1:]):\n",
    "        old_state, new_state = states\n",
    "        for row in new_state:\n",
    "            print(' '.join(map(str, row)))\n",
    "        print()"
   ]
  },
  {
   "cell_type": "code",
   "execution_count": 177,
   "id": "90cfdbc9-c0a3-4e7a-bdab-975c63a8977a",
   "metadata": {},
   "outputs": [
    {
     "name": "stdout",
     "output_type": "stream",
     "text": [
      "0 2 0 0 0 0 0 0 0\n",
      "0 0 0 0 0 0 0 0 0\n",
      "0 0 0 0 0 0 0 0 0\n",
      "0 0 0 0 0 0 0 0 0\n",
      "0 0 0 0 0 0 0 3 0\n",
      "0 0 1 0 0 0 0 0 0\n",
      "0 0 0 0 0 0 0 0 0\n",
      "\n",
      "0 0 0 0 0 0 0 0 0\n",
      "0 2 0 0 0 0 0 0 0\n",
      "0 0 0 0 0 0 0 0 0\n",
      "0 0 0 0 0 0 0 0 0\n",
      "0 0 0 0 0 0 0 0 0\n",
      "0 0 0 0 0 0 0 3 0\n",
      "0 0 1 0 0 0 0 0 0\n",
      "\n",
      "0 0 0 0 0 0 0 0 0\n",
      "0 0 0 0 0 0 0 0 0\n",
      "0 2 0 0 0 0 0 0 0\n",
      "0 0 0 0 0 0 0 0 0\n",
      "0 0 0 0 0 0 0 0 0\n",
      "0 0 0 0 0 0 0 0 0\n",
      "0 0 1 0 0 0 0 3 0\n",
      "\n",
      "0 0 0 0 0 0 0 0 0\n",
      "0 0 0 0 0 0 0 0 0\n",
      "0 0 2 0 0 0 0 0 0\n",
      "0 0 0 0 0 0 0 0 0\n",
      "0 0 0 0 0 0 0 0 0\n",
      "0 0 0 0 0 0 0 0 0\n",
      "0 0 0 1 0 0 0 0 3\n",
      "\n",
      "0 0 0 0 0 0 0 0 0\n",
      "0 0 0 0 0 0 0 0 0\n",
      "0 0 0 0 0 0 0 0 0\n",
      "0 0 2 0 0 0 0 0 0\n",
      "0 0 0 0 0 0 0 0 0\n",
      "0 0 0 0 0 0 0 0 0\n",
      "0 0 0 1 0 0 0 0 3\n",
      "\n",
      "0 0 0 0 0 0 0 0 0\n",
      "0 0 0 0 0 0 0 0 0\n",
      "0 0 0 0 0 0 0 0 0\n",
      "0 0 0 0 0 0 0 0 0\n",
      "0 0 2 0 0 0 0 0 0\n",
      "0 0 0 0 0 0 0 0 0\n",
      "0 0 0 1 0 0 0 0 3\n",
      "\n",
      "0 0 0 0 0 0 0 0 0\n",
      "0 0 0 0 0 0 0 0 0\n",
      "0 0 0 0 0 0 0 0 0\n",
      "0 0 0 0 0 0 0 0 0\n",
      "0 0 0 0 0 0 0 0 0\n",
      "0 0 2 0 0 0 0 0 0\n",
      "0 0 0 1 0 0 0 0 3\n",
      "\n",
      "0 0 0 0 0 0 0 0 0\n",
      "0 0 0 0 0 0 0 0 0\n",
      "0 0 0 0 0 0 0 0 0\n",
      "0 0 0 0 0 0 0 0 0\n",
      "0 0 0 0 0 0 0 0 0\n",
      "0 0 2 0 0 0 0 0 0\n",
      "0 0 1 0 0 0 0 3 0\n",
      "\n",
      "0 0 0 0 0 0 0 0 0\n",
      "0 0 0 0 0 0 0 0 0\n",
      "0 0 0 0 0 0 0 0 0\n",
      "0 0 0 0 0 0 0 0 0\n",
      "0 0 0 0 0 0 0 0 0\n",
      "0 0 2 0 0 0 0 0 0\n",
      "0 1 0 0 0 0 3 0 0\n",
      "\n",
      "0 0 0 0 0 0 0 0 0\n",
      "0 0 0 0 0 0 0 0 0\n",
      "0 0 0 0 0 0 0 0 0\n",
      "0 0 0 0 0 0 0 0 0\n",
      "0 0 0 0 0 0 0 0 0\n",
      "0 0 2 0 0 0 0 0 0\n",
      "1 0 0 0 0 3 0 0 0\n",
      "\n",
      "0 0 0 0 0 0 0 0 0\n",
      "0 0 0 0 0 0 0 0 0\n",
      "0 0 0 0 0 0 0 0 0\n",
      "0 0 0 0 0 0 0 0 0\n",
      "0 0 0 0 0 0 0 0 0\n",
      "0 0 2 0 0 0 0 0 0\n",
      "1 0 0 0 3 0 0 0 0\n",
      "\n",
      "0 0 0 0 0 0 0 0 0\n",
      "0 0 0 0 0 0 0 0 0\n",
      "0 0 0 0 0 0 0 0 0\n",
      "0 0 0 0 0 0 0 0 0\n",
      "0 0 0 0 0 0 0 0 0\n",
      "0 0 2 0 0 0 0 0 0\n",
      "1 0 0 3 0 0 0 0 0\n",
      "\n",
      "0 0 0 0 0 0 0 0 0\n",
      "0 0 0 0 0 0 0 0 0\n",
      "0 0 0 0 0 0 0 0 0\n",
      "0 0 0 0 0 0 0 0 0\n",
      "0 0 0 0 0 0 0 0 0\n",
      "0 0 2 0 0 0 0 0 0\n",
      "1 0 3 0 0 0 0 0 0\n",
      "\n",
      "0 0 0 0 0 0 0 0 0\n",
      "0 0 0 0 0 0 0 0 0\n",
      "0 0 0 0 0 0 0 0 0\n",
      "0 0 0 0 0 0 0 0 0\n",
      "0 0 0 0 0 0 0 0 0\n",
      "0 0 2 0 0 0 0 0 0\n",
      "1 3 0 0 0 0 0 0 0\n",
      "\n",
      "0 0 0 0 0 0 0 0 0\n",
      "0 0 0 0 0 0 0 0 0\n",
      "0 0 0 0 0 0 0 0 0\n",
      "0 0 0 0 0 0 0 0 0\n",
      "0 0 0 0 0 0 0 0 0\n",
      "0 0 0 0 0 0 0 0 0\n",
      "1 3 2 0 0 0 0 0 0\n",
      "\n"
     ]
    }
   ],
   "source": [
    "visualise_path(search_path(matrix))"
   ]
  },
  {
   "cell_type": "code",
   "execution_count": null,
   "id": "71d0e3ee-8bef-4872-a6c3-e56f064d5521",
   "metadata": {},
   "outputs": [],
   "source": []
  },
  {
   "cell_type": "code",
   "execution_count": null,
   "id": "15993e75-de11-4b83-be38-8151049c94cf",
   "metadata": {},
   "outputs": [],
   "source": []
  }
 ],
 "metadata": {
  "kernelspec": {
   "display_name": "Python 3 (ipykernel)",
   "language": "python",
   "name": "python3"
  },
  "language_info": {
   "codemirror_mode": {
    "name": "ipython",
    "version": 3
   },
   "file_extension": ".py",
   "mimetype": "text/x-python",
   "name": "python",
   "nbconvert_exporter": "python",
   "pygments_lexer": "ipython3",
   "version": "3.12.6"
  }
 },
 "nbformat": 4,
 "nbformat_minor": 5
}
