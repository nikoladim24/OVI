{
 "cells": [
  {
   "cell_type": "code",
   "execution_count": 80,
   "id": "dae5aa38-8f74-4b12-a7ad-7bfac4ccb1b7",
   "metadata": {},
   "outputs": [],
   "source": [
    "from collections import deque\n",
    "import os"
   ]
  },
  {
   "cell_type": "code",
   "execution_count": 81,
   "id": "29eff614-f749-4368-919e-8f50738b0230",
   "metadata": {},
   "outputs": [],
   "source": [
    "def find_horse(state_matrix):\n",
    "    for i, row in enumerate(state_matrix):\n",
    "        for j, column in enumerate(row):\n",
    "            if column == 1:\n",
    "                return i, j\n",
    "    return(0, 0)"
   ]
  },
  {
   "cell_type": "code",
   "execution_count": 82,
   "id": "0adf1c76-800d-4a80-aa5e-b681d2c3d55d",
   "metadata": {},
   "outputs": [],
   "source": [
    "def find_bishop(state_matrix):\n",
    "    for i, row in enumerate(state_matrix):\n",
    "        for j, column in enumerate(row):\n",
    "            if column == 2:\n",
    "                return i, j\n",
    "    return(0, 0)"
   ]
  },
  {
   "cell_type": "code",
   "execution_count": 83,
   "id": "a881618e-b318-457e-b623-aae8e5de7405",
   "metadata": {},
   "outputs": [],
   "source": [
    "def find_star(state_matrix):\n",
    "    stars = []\n",
    "    for i, row in enumerate(state_matrix):\n",
    "        for j, column in enumerate(row):\n",
    "            if column == 9:\n",
    "                stars.append((i, j))\n",
    "    return tuple(stars)"
   ]
  },
  {
   "cell_type": "code",
   "execution_count": 84,
   "id": "5944ac01-ffaa-4379-93b7-3030caf24860",
   "metadata": {},
   "outputs": [],
   "source": [
    "def collision(x1, y1, x2, y2):\n",
    "    if (x1 == x2) and (y1 == y2):\n",
    "        return True\n",
    "    else:\n",
    "        return False    "
   ]
  },
  {
   "cell_type": "code",
   "execution_count": 85,
   "id": "d32ca1f2-3b09-4aac-a3fb-05fec470cdfb",
   "metadata": {},
   "outputs": [],
   "source": [
    "def is_in_table(x, y):\n",
    "    if 0 <= x <= 7 and 0 <= y <= 7:\n",
    "        return True"
   ]
  },
  {
   "cell_type": "code",
   "execution_count": 86,
   "id": "b90217cb-b328-429c-bfee-bcd24f710f5f",
   "metadata": {},
   "outputs": [],
   "source": [
    "def is_valid(x1, y1, x2, y2):\n",
    "    if not collision(x1, y1, x2, y2) and is_in_table(x1, y1):\n",
    "        return True\n",
    "    else:\n",
    "        return False"
   ]
  },
  {
   "cell_type": "code",
   "execution_count": 87,
   "id": "4a3e8b7f-78f1-46da-bb3a-ea37206c7118",
   "metadata": {},
   "outputs": [],
   "source": [
    "def star(x1, y1, x_s, y_s):\n",
    "    if (x1 == x_s )and (y1 == y_s):\n",
    "        return True\n",
    "        "
   ]
  },
  {
   "cell_type": "code",
   "execution_count": 97,
   "id": "5ec43afd-d706-4f9c-9d26-e19ba257941e",
   "metadata": {},
   "outputs": [],
   "source": [
    "def check_end(state_matrix):\n",
    "    for i, row in enumerate(state_matrix):\n",
    "        for j, column in enumerate(row):\n",
    "            if column == 9:\n",
    "                return False\n",
    "    return True\n",
    "                "
   ]
  },
  {
   "cell_type": "code",
   "execution_count": 234,
   "id": "a8e5a2cd-5f56-492c-b184-3ae11668af94",
   "metadata": {},
   "outputs": [],
   "source": [
    "def expand_state(state_matrix):\n",
    "    states = []\n",
    "    new_state_matrix= [list(row) for row in state_matrix]\n",
    "    moves_horse = [(1,-2), (-1,-2), (1,2), (-1,2),(2,-1), (2,1), (-2,-1), (-2,1)]\n",
    "    moves_bishop = [(1, 1), (-1,-1), (-1,1), (1,-1),(1, 1), (-1,-1), (-1,1), (1,-1)]\n",
    "    x_h, y_h = find_horse(state_matrix)\n",
    "    x_b, y_b = find_bishop(state_matrix)\n",
    "    for (d_xh, d_yh), (d_xb, d_yb) in zip(moves_horse, moves_bishop):\n",
    "        new_state_matrix = [list(row) for row in state_matrix]\n",
    "        new_xh = x_h + d_xh\n",
    "        new_yh = y_h + d_yh\n",
    "        new_xb = x_b + d_xb\n",
    "        new_yb = y_b + d_yb\n",
    "        if is_valid(new_xh, new_yh, new_xb, new_yb):\n",
    "            new_state_matrix[x_h][y_h] = 0\n",
    "            new_state_matrix[new_xh][new_yh] = 1\n",
    "        if is_valid(new_xb, new_yb, new_xh, new_yh): \n",
    "            new_state_matrix[x_b][y_b] = 0\n",
    "            new_state_matrix[new_xb][new_yb] = 2\n",
    "        states.append(tuple(map(tuple,new_state_matrix)))\n",
    "    return states   "
   ]
  },
  {
   "cell_type": "code",
   "execution_count": 235,
   "id": "f1ef92b1-41b1-47a3-bbcc-4021b5845025",
   "metadata": {},
   "outputs": [],
   "source": [
    "board=((0,0,0,0,0,0,0,0),\n",
    "       (0,0,0,0,1,0,0,0),\n",
    "       (0,0,0,0,0,0,0,0),\n",
    "       (9,0,0,0,0,0,0,0),\n",
    "       (0,0,9,0,0,0,0,0),\n",
    "       (0,0,0,2,0,0,0,0),\n",
    "       (0,0,0,0,9,0,0,0),\n",
    "       (0,0,0,0,0,0,0,0))\n",
    "        "
   ]
  },
  {
   "cell_type": "code",
   "execution_count": 236,
   "id": "a1eac7fa-8e07-426a-b22d-d3f1dadbd53b",
   "metadata": {},
   "outputs": [],
   "source": [
    "from collections import deque\n",
    "def search_path(initial_state):\n",
    "    visited = {initial_state}\n",
    "    states_queue = deque([[initial_state]])\n",
    "    while states_queue:\n",
    "        states_list = states_queue.popleft()\n",
    "        state_to_expand = states_list[-1]\n",
    "        for next_state in expand_state(state_to_expand):\n",
    "            if next_state not in visited:\n",
    "                if check_end(next_state):\n",
    "                    return states_list + [next_state]\n",
    "                visited.add(next_state)\n",
    "                states_queue.append(states_list + [next_state])\n",
    "    return []"
   ]
  },
  {
   "cell_type": "code",
   "execution_count": 237,
   "id": "246b8721-99f7-409c-b26d-9736a03574a9",
   "metadata": {},
   "outputs": [
    {
     "name": "stdout",
     "output_type": "stream",
     "text": [
      "CPU times: user 226 μs, sys: 911 μs, total: 1.14 ms\n",
      "Wall time: 1.18 ms\n"
     ]
    },
    {
     "data": {
      "text/plain": [
       "[((0, 0, 0, 0, 0, 0, 0, 0),\n",
       "  (0, 0, 0, 0, 1, 0, 0, 0),\n",
       "  (0, 0, 0, 0, 0, 0, 0, 0),\n",
       "  (9, 0, 0, 0, 0, 0, 0, 0),\n",
       "  (0, 0, 9, 0, 0, 0, 0, 0),\n",
       "  (0, 0, 0, 2, 0, 0, 0, 0),\n",
       "  (0, 0, 0, 0, 9, 0, 0, 0),\n",
       "  (0, 0, 0, 0, 0, 0, 0, 0)),\n",
       " ((0, 0, 0, 0, 0, 0, 0, 0),\n",
       "  (0, 0, 0, 0, 0, 0, 0, 0),\n",
       "  (0, 0, 1, 0, 0, 0, 0, 0),\n",
       "  (9, 0, 0, 0, 0, 0, 0, 0),\n",
       "  (0, 0, 9, 0, 0, 0, 0, 0),\n",
       "  (0, 0, 0, 0, 0, 0, 0, 0),\n",
       "  (0, 0, 0, 0, 2, 0, 0, 0),\n",
       "  (0, 0, 0, 0, 0, 0, 0, 0)),\n",
       " ((0, 0, 0, 0, 0, 0, 0, 0),\n",
       "  (0, 0, 0, 0, 0, 0, 0, 0),\n",
       "  (0, 0, 0, 0, 0, 0, 0, 0),\n",
       "  (1, 0, 0, 0, 0, 0, 0, 0),\n",
       "  (0, 0, 9, 0, 0, 0, 0, 0),\n",
       "  (0, 0, 0, 0, 0, 0, 0, 0),\n",
       "  (0, 0, 0, 0, 0, 0, 0, 0),\n",
       "  (0, 0, 0, 0, 0, 2, 0, 0)),\n",
       " ((0, 0, 0, 0, 0, 0, 0, 0),\n",
       "  (0, 0, 0, 0, 0, 0, 0, 0),\n",
       "  (0, 0, 0, 0, 0, 0, 0, 0),\n",
       "  (0, 0, 0, 0, 0, 0, 0, 0),\n",
       "  (0, 0, 1, 0, 0, 0, 0, 0),\n",
       "  (0, 0, 0, 0, 0, 0, 0, 0),\n",
       "  (0, 0, 0, 0, 0, 0, 2, 0),\n",
       "  (0, 0, 0, 0, 0, 0, 0, 0))]"
      ]
     },
     "execution_count": 237,
     "metadata": {},
     "output_type": "execute_result"
    }
   ],
   "source": [
    "%%time\n",
    "search_path(board)"
   ]
  },
  {
   "cell_type": "code",
   "execution_count": 238,
   "id": "74b47d46-3c7c-46bc-9307-666deaee7d83",
   "metadata": {},
   "outputs": [],
   "source": [
    "def visualise_path(path):\n",
    "    for states in zip(path, path[1:]):\n",
    "        old_state, new_state = states\n",
    "        for row in new_state:\n",
    "            print(' '.join(map(str, row)))\n",
    "        print()"
   ]
  },
  {
   "cell_type": "code",
   "execution_count": 239,
   "id": "3d64d91e-b2b9-4ec5-b488-555e37a0c04c",
   "metadata": {},
   "outputs": [
    {
     "name": "stdout",
     "output_type": "stream",
     "text": [
      "0 0 0 0 0 0 0 0\n",
      "0 0 0 0 0 0 0 0\n",
      "0 0 1 0 0 0 0 0\n",
      "9 0 0 0 0 0 0 0\n",
      "0 0 9 0 0 0 0 0\n",
      "0 0 0 0 0 0 0 0\n",
      "0 0 0 0 2 0 0 0\n",
      "0 0 0 0 0 0 0 0\n",
      "\n",
      "0 0 0 0 0 0 0 0\n",
      "0 0 0 0 0 0 0 0\n",
      "0 0 0 0 0 0 0 0\n",
      "1 0 0 0 0 0 0 0\n",
      "0 0 9 0 0 0 0 0\n",
      "0 0 0 0 0 0 0 0\n",
      "0 0 0 0 0 0 0 0\n",
      "0 0 0 0 0 2 0 0\n",
      "\n",
      "0 0 0 0 0 0 0 0\n",
      "0 0 0 0 0 0 0 0\n",
      "0 0 0 0 0 0 0 0\n",
      "0 0 0 0 0 0 0 0\n",
      "0 0 1 0 0 0 0 0\n",
      "0 0 0 0 0 0 0 0\n",
      "0 0 0 0 0 0 2 0\n",
      "0 0 0 0 0 0 0 0\n",
      "\n"
     ]
    }
   ],
   "source": [
    "visualise_path(search_path(board))"
   ]
  },
  {
   "cell_type": "code",
   "execution_count": 240,
   "id": "74882b77-80ae-4b26-a498-6064bef73876",
   "metadata": {},
   "outputs": [
    {
     "data": {
      "text/plain": [
       "False"
      ]
     },
     "execution_count": 240,
     "metadata": {},
     "output_type": "execute_result"
    }
   ],
   "source": [
    "check_end(board)"
   ]
  },
  {
   "cell_type": "code",
   "execution_count": null,
   "id": "8cc6e627-6472-40dd-a389-3e28bcd6e746",
   "metadata": {},
   "outputs": [],
   "source": []
  },
  {
   "cell_type": "code",
   "execution_count": null,
   "id": "71bc8a27-efdd-4b67-a7e0-b6b83e063e56",
   "metadata": {},
   "outputs": [],
   "source": []
  }
 ],
 "metadata": {
  "kernelspec": {
   "display_name": "Python 3 (ipykernel)",
   "language": "python",
   "name": "python3"
  },
  "language_info": {
   "codemirror_mode": {
    "name": "ipython",
    "version": 3
   },
   "file_extension": ".py",
   "mimetype": "text/x-python",
   "name": "python",
   "nbconvert_exporter": "python",
   "pygments_lexer": "ipython3",
   "version": "3.12.6"
  }
 },
 "nbformat": 4,
 "nbformat_minor": 5
}
