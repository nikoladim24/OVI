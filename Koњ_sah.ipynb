{
 "cells": [
  {
   "cell_type": "code",
   "execution_count": 8,
   "id": "5ebe1ac2-a48b-4601-bbb3-35ea874f11d8",
   "metadata": {},
   "outputs": [],
   "source": [
    "from collections import deque"
   ]
  },
  {
   "cell_type": "code",
   "execution_count": 9,
   "id": "60911046-367d-48cb-9ca2-793c4c8a02a9",
   "metadata": {},
   "outputs": [],
   "source": [
    "def expand_state(state):\n",
    "    new_states=[]\n",
    "    i, j =state\n",
    "    possible_moves = [(i+1,j-2), (i-1,j-2), (i+1,j+2), (i-1,j+2),\n",
    "                       (i+2,j-1), (i+2,j+1), (i-2,j-1), (i-2,j+1)]\n",
    "    for m,n in possible_moves:\n",
    "        if m>=0 and n>=0 and m<=7 and n<=7:\n",
    "            new_states.append((m,n))\n",
    "    return new_states\n",
    "    "
   ]
  },
  {
   "cell_type": "code",
   "execution_count": 10,
   "id": "cc27e8d1-d083-4169-82ad-c9d7403471b9",
   "metadata": {},
   "outputs": [],
   "source": [
    "def search_path(initial_state, goal_state):\n",
    "    visited = {initial_state}\n",
    "    states_queue = deque([[initial_state]])\n",
    "    while states_queue:\n",
    "        states_list = states_queue.popleft()\n",
    "        state_to_expand = states_list[-1]\n",
    "        for next_state in expand_state(state_to_expand):\n",
    "            if next_state not in visited:\n",
    "                if next_state == goal_state:\n",
    "                    return states_list + [next_state]\n",
    "                visited.add(next_state)\n",
    "                states_queue.append(states_list + [next_state])\n",
    "    return []"
   ]
  },
  {
   "cell_type": "code",
   "execution_count": 11,
   "id": "17925fe0-b2a7-45c6-95f3-c7cbffec2f74",
   "metadata": {},
   "outputs": [
    {
     "data": {
      "text/plain": [
       "[(0, 0), (1, 2), (2, 4), (1, 6), (3, 7)]"
      ]
     },
     "execution_count": 11,
     "metadata": {},
     "output_type": "execute_result"
    }
   ],
   "source": [
    "search_path(initial_state=(0,0), goal_state=(3,7))"
   ]
  },
  {
   "cell_type": "code",
   "execution_count": null,
   "id": "43a9e5f1-1ea3-4ed3-8481-ecc8f06cd859",
   "metadata": {},
   "outputs": [],
   "source": []
  }
 ],
 "metadata": {
  "kernelspec": {
   "display_name": "Python 3 (ipykernel)",
   "language": "python",
   "name": "python3"
  },
  "language_info": {
   "codemirror_mode": {
    "name": "ipython",
    "version": 3
   },
   "file_extension": ".py",
   "mimetype": "text/x-python",
   "name": "python",
   "nbconvert_exporter": "python",
   "pygments_lexer": "ipython3",
   "version": "3.12.6"
  }
 },
 "nbformat": 4,
 "nbformat_minor": 5
}
