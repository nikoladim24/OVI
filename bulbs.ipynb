{
 "cells": [
  {
   "cell_type": "code",
   "execution_count": 33,
   "id": "b368d460-abf3-496e-8c2b-855e9c066bee",
   "metadata": {},
   "outputs": [],
   "source": [
    "from collections import deque\n",
    "import heapq\n",
    "import random\n",
    "N=3"
   ]
  },
  {
   "cell_type": "code",
   "execution_count": 35,
   "id": "a95932c9-9f08-455c-bfcd-0153d772fa95",
   "metadata": {},
   "outputs": [],
   "source": [
    "def toggle_state(x, y, TABLE):\n",
    "    matrix_table = [list(row)  for row in TABLE]\n",
    "    for dx, dy in [(0, 0), (1, 0), (0, 1), (-1, 0), (0, -1)]:\n",
    "        new_x, new_y = x + dx, y + dy\n",
    "        if 0 <= new_x <= N and 0 <= new_y <=N:\n",
    "            matrix_table[new_x][new_y] = 1 - matrix_table[new_x][new_y] \n",
    "    return tuple(map(tuple, matrix_table))\n",
    "\n",
    "        "
   ]
  },
  {
   "cell_type": "code",
   "execution_count": 36,
   "id": "6266cb4c-9ed9-4497-888a-6fc5b72f9e41",
   "metadata": {},
   "outputs": [],
   "source": [
    "def expand_state(TABLE):\n",
    "    states = []\n",
    "    for i, row in enumerate(TABLE):\n",
    "        for j,element in enumerate(row):\n",
    "            NEW_TABLE = toggle_state(i, j, TABLE)\n",
    "            states.append(NEW_TABLE)\n",
    "    return states"
   ]
  },
  {
   "cell_type": "code",
   "execution_count": 37,
   "id": "d308c4fe-0b4c-48a7-9b12-e0429a2732d3",
   "metadata": {},
   "outputs": [],
   "source": [
    "def end_check(table):\n",
    "    for i, row in enumerate(table):\n",
    "        for j, column in enumerate(row):\n",
    "            if column == 1:\n",
    "                return False\n",
    "    return True\n",
    "\n",
    "    "
   ]
  },
  {
   "cell_type": "code",
   "execution_count": 38,
   "id": "4fa28059-aa39-4247-9982-e2642b4daed8",
   "metadata": {},
   "outputs": [],
   "source": [
    "from collections import deque\n",
    "def search_path(initial_state):\n",
    "    visited = {initial_state}\n",
    "    states_queue = deque([[initial_state]])\n",
    "    while states_queue:\n",
    "        states_list = states_queue.popleft()\n",
    "        state_to_expand = states_list[-1]\n",
    "        for next_state in expand_state(state_to_expand):\n",
    "            if next_state not in visited:\n",
    "                if end_check(next_state):\n",
    "                    return states_list + [next_state]\n",
    "                visited.add(next_state)\n",
    "                states_queue.append(states_list + [next_state])\n",
    "    return []"
   ]
  },
  {
   "cell_type": "code",
   "execution_count": 47,
   "id": "80ea1bb2-088d-4d37-8e8c-342081a27f26",
   "metadata": {},
   "outputs": [],
   "source": [
    "TABLE = [\n",
    "    [0, 0, 1, 0],\n",
    "    [0, 0, 1, 1],\n",
    "    [1, 1, 0, 0],\n",
    "    [0, 1, 0, 0],\n",
    "]\n",
    "TABLE1 = ((0, 0, 1, 0),\n",
    "         (0, 0, 1, 1),\n",
    "         (1, 1, 0, 0),\n",
    "         (0, 1, 0, 0))"
   ]
  },
  {
   "cell_type": "code",
   "execution_count": 48,
   "id": "77b859ba-e55d-4812-b549-2c126330f465",
   "metadata": {},
   "outputs": [
    {
     "data": {
      "text/plain": [
       "[((0, 0, 1, 0), (0, 0, 1, 1), (1, 1, 0, 0), (0, 1, 0, 0)),\n",
       " ((0, 0, 0, 0), (0, 1, 0, 0), (1, 1, 1, 0), (0, 1, 0, 0)),\n",
       " ((0, 0, 0, 0), (0, 0, 0, 0), (0, 0, 0, 0), (0, 0, 0, 0))]"
      ]
     },
     "execution_count": 48,
     "metadata": {},
     "output_type": "execute_result"
    }
   ],
   "source": [
    "search_path(tuple(TABLE1))"
   ]
  },
  {
   "cell_type": "code",
   "execution_count": 50,
   "id": "88d94087-3dad-4e55-8cae-4627a1746ffd",
   "metadata": {},
   "outputs": [],
   "source": [
    "def h(state):\n",
    "    count_1 = sum(row.count(1) for row in state)\n",
    "    aswer = count_1/5\n",
    "    return answer"
   ]
  },
  {
   "cell_type": "code",
   "execution_count": null,
   "id": "dc9661e9-4192-40e7-a8fb-9ad7b07a5c5d",
   "metadata": {},
   "outputs": [],
   "source": []
  },
  {
   "cell_type": "code",
   "execution_count": null,
   "id": "e4374c31-e9c4-4858-aa83-c3fc7b965bbf",
   "metadata": {},
   "outputs": [],
   "source": []
  },
  {
   "cell_type": "code",
   "execution_count": null,
   "id": "a88bf277-7a1c-4327-803d-addc7d41d227",
   "metadata": {},
   "outputs": [],
   "source": []
  }
 ],
 "metadata": {
  "kernelspec": {
   "display_name": "Python 3 (ipykernel)",
   "language": "python",
   "name": "python3"
  },
  "language_info": {
   "codemirror_mode": {
    "name": "ipython",
    "version": 3
   },
   "file_extension": ".py",
   "mimetype": "text/x-python",
   "name": "python",
   "nbconvert_exporter": "python",
   "pygments_lexer": "ipython3",
   "version": "3.12.6"
  }
 },
 "nbformat": 4,
 "nbformat_minor": 5
}
